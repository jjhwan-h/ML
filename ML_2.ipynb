{
  "nbformat": 4,
  "nbformat_minor": 0,
  "metadata": {
    "colab": {
      "provenance": [],
      "authorship_tag": "ABX9TyOtC1NkirfU2IuORsCNsAUo",
      "include_colab_link": true
    },
    "kernelspec": {
      "name": "python3",
      "display_name": "Python 3"
    },
    "language_info": {
      "name": "python"
    }
  },
  "cells": [
    {
      "cell_type": "markdown",
      "metadata": {
        "id": "view-in-github",
        "colab_type": "text"
      },
      "source": [
        "<a href=\"https://colab.research.google.com/github/jjhwan-h/ML/blob/main/ML_2.ipynb\" target=\"_parent\"><img src=\"https://colab.research.google.com/assets/colab-badge.svg\" alt=\"Open In Colab\"/></a>"
      ]
    },
    {
      "cell_type": "code",
      "execution_count": 1,
      "metadata": {
        "id": "jH0cTK2URgHP"
      },
      "outputs": [],
      "source": [
        "#2\n",
        "from collections import Counter\n",
        "from sklearn.datasets import make_classification\n",
        "from imblearn.over_sampling import SMOTE\n",
        "from imblearn.under_sampling import RandomUnderSampler\n",
        "from imblearn.pipeline import Pipeline\n",
        "from matplotlib import pyplot\n",
        "from numpy import where\n",
        "import pandas as pd\n",
        "from sklearn.preprocessing import LabelEncoder\n",
        "import numpy as np\n",
        "from sklearn.model_selection import train_test_split\n",
        "from sklearn.metrics import accuracy_score\n",
        "from sklearn.linear_model import LogisticRegression\n",
        "from sklearn.preprocessing import StandardScaler\n",
        "np.set_printoptions(threshold=np.inf)\n",
        "import joblib"
      ]
    },
    {
      "cell_type": "code",
      "source": [
        "#데이터 읽기 및 분리\n",
        "data=pd.read_csv('/content/loan_data.csv')\n",
        "\n",
        "X=data.drop('not.fully.paid',axis=1)\n",
        "y=data['not.fully.paid']\n",
        "data['not.fully.paid'].value_counts() # 0:8045, 1:1533"
      ],
      "metadata": {
        "colab": {
          "base_uri": "https://localhost:8080/"
        },
        "id": "zw-qS4IpSPZu",
        "outputId": "0cbb6be1-3c72-43f6-c416-0e1f44c67a82"
      },
      "execution_count": 3,
      "outputs": [
        {
          "output_type": "execute_result",
          "data": {
            "text/plain": [
              "0    8045\n",
              "1    1533\n",
              "Name: not.fully.paid, dtype: int64"
            ]
          },
          "metadata": {},
          "execution_count": 3
        }
      ]
    },
    {
      "cell_type": "code",
      "source": [
        "#purpose 열 라벨인코딩\n",
        "label_encoder = LabelEncoder()\n",
        "encoded_clases = label_encoder.fit_transform(X['purpose'])\n",
        "X['purpose']=encoded_clases\n",
        "print(X)"
      ],
      "metadata": {
        "colab": {
          "base_uri": "https://localhost:8080/"
        },
        "id": "lXIzws_XVfMG",
        "outputId": "cbcb4c16-a248-414c-a2a9-e0e5c4f1f44c"
      },
      "execution_count": 4,
      "outputs": [
        {
          "output_type": "stream",
          "name": "stdout",
          "text": [
            "      credit.policy  purpose  int.rate  installment  log.annual.inc    dti  \\\n",
            "0                 1        2    0.1189       829.10       11.350407  19.48   \n",
            "1                 1        1    0.1071       228.22       11.082143  14.29   \n",
            "2                 1        2    0.1357       366.86       10.373491  11.63   \n",
            "3                 1        2    0.1008       162.34       11.350407   8.10   \n",
            "4                 1        1    0.1426       102.92       11.299732  14.97   \n",
            "...             ...      ...       ...          ...             ...    ...   \n",
            "9573              0        0    0.1461       344.76       12.180755  10.39   \n",
            "9574              0        0    0.1253       257.70       11.141862   0.21   \n",
            "9575              0        2    0.1071        97.81       10.596635  13.09   \n",
            "9576              0        4    0.1600       351.58       10.819778  19.18   \n",
            "9577              0        2    0.1392       853.43       11.264464  16.28   \n",
            "\n",
            "      fico  days.with.cr.line  revol.bal  revol.util  inq.last.6mths  \\\n",
            "0      737        5639.958333      28854        52.1               0   \n",
            "1      707        2760.000000      33623        76.7               0   \n",
            "2      682        4710.000000       3511        25.6               1   \n",
            "3      712        2699.958333      33667        73.2               1   \n",
            "4      667        4066.000000       4740        39.5               0   \n",
            "...    ...                ...        ...         ...             ...   \n",
            "9573   672       10474.000000     215372        82.1               2   \n",
            "9574   722        4380.000000        184         1.1               5   \n",
            "9575   687        3450.041667      10036        82.9               8   \n",
            "9576   692        1800.000000          0         3.2               5   \n",
            "9577   732        4740.000000      37879        57.0               6   \n",
            "\n",
            "      delinq.2yrs  pub.rec  \n",
            "0               0        0  \n",
            "1               0        0  \n",
            "2               0        0  \n",
            "3               0        0  \n",
            "4               1        0  \n",
            "...           ...      ...  \n",
            "9573            0        0  \n",
            "9574            0        0  \n",
            "9575            0        0  \n",
            "9576            0        0  \n",
            "9577            0        0  \n",
            "\n",
            "[9578 rows x 13 columns]\n"
          ]
        }
      ]
    },
    {
      "cell_type": "code",
      "source": [
        "#SMOTE\n",
        "new_X, new_y = SMOTE(sampling_strategy=1,random_state =10).fit_resample(X, y)\n",
        "new_y.value_counts()"
      ],
      "metadata": {
        "colab": {
          "base_uri": "https://localhost:8080/"
        },
        "id": "dfh63ekKZDFB",
        "outputId": "a52aee7b-a841-4ae9-c738-1fc7a5f7cba0"
      },
      "execution_count": 5,
      "outputs": [
        {
          "output_type": "execute_result",
          "data": {
            "text/plain": [
              "0    8045\n",
              "1    8045\n",
              "Name: not.fully.paid, dtype: int64"
            ]
          },
          "metadata": {},
          "execution_count": 5
        }
      ]
    },
    {
      "cell_type": "code",
      "source": [
        "#train, test 세트 나누기\n",
        "X_train, X_test, y_train, y_test = train_test_split(new_X, new_y, test_size=0.3, random_state=10)\n",
        "print(\"훈련 세트 크기:\", X_train.shape, y_train.shape)\n",
        "print(\"테스트 세트 크기:\", X_test.shape, y_test.shape)"
      ],
      "metadata": {
        "colab": {
          "base_uri": "https://localhost:8080/"
        },
        "id": "V2B4lthWf_f6",
        "outputId": "20f879d3-edfc-4c88-d85c-49164deca84e"
      },
      "execution_count": 6,
      "outputs": [
        {
          "output_type": "stream",
          "name": "stdout",
          "text": [
            "훈련 세트 크기: (11263, 13) (11263,)\n",
            "테스트 세트 크기: (4827, 13) (4827,)\n"
          ]
        }
      ]
    },
    {
      "cell_type": "code",
      "source": [
        "sc = StandardScaler()\n",
        "\n",
        "# 데이터에 정규화 적용\n",
        "# 평균이 0이고 표준편차가 1인 분포를 따르도록 함\n",
        "X_train = sc.fit_transform(X_train)\n",
        "X_test = sc.transform(X_test)"
      ],
      "metadata": {
        "id": "g4IIOLeujFoN"
      },
      "execution_count": 7,
      "outputs": []
    },
    {
      "cell_type": "code",
      "source": [
        "#로지스틱회귀 모델 생성 및 훈련\n",
        "model = LogisticRegression()\n",
        "model.fit(X_train,y_train)\n",
        "\n",
        "#모델저장\n",
        "joblib.dump(model, 'logistic_regression_model_HW2.pkl')\n",
        "y_pred = model.predict(X_test)\n",
        "\n",
        "accuracy = accuracy_score(y_test,y_pred)\n",
        "print(\"테스트 정확도:\",accuracy)"
      ],
      "metadata": {
        "colab": {
          "base_uri": "https://localhost:8080/"
        },
        "id": "aFKfwcS8gw-T",
        "outputId": "b1ca02e3-9514-44aa-d4ee-c61ade01fec1"
      },
      "execution_count": 8,
      "outputs": [
        {
          "output_type": "stream",
          "name": "stdout",
          "text": [
            "테스트 정확도: 0.6813755956080381\n"
          ]
        }
      ]
    },
    {
      "cell_type": "code",
      "source": [],
      "metadata": {
        "id": "e7MUW_gVhw00"
      },
      "execution_count": null,
      "outputs": []
    }
  ]
}