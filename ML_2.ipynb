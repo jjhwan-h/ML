{
  "nbformat": 4,
  "nbformat_minor": 0,
  "metadata": {
    "colab": {
      "provenance": [],
      "authorship_tag": "ABX9TyOt5qGRdr0vvtREjcYebFtc",
      "include_colab_link": true
    },
    "kernelspec": {
      "name": "python3",
      "display_name": "Python 3"
    },
    "language_info": {
      "name": "python"
    }
  },
  "cells": [
    {
      "cell_type": "markdown",
      "metadata": {
        "id": "view-in-github",
        "colab_type": "text"
      },
      "source": [
        "<a href=\"https://colab.research.google.com/github/jjhwan-h/ML/blob/main/ML_2.ipynb\" target=\"_parent\"><img src=\"https://colab.research.google.com/assets/colab-badge.svg\" alt=\"Open In Colab\"/></a>"
      ]
    },
    {
      "cell_type": "code",
      "execution_count": 62,
      "metadata": {
        "id": "jH0cTK2URgHP"
      },
      "outputs": [],
      "source": [
        "#2\n",
        "from collections import Counter\n",
        "from sklearn.datasets import make_classification\n",
        "from imblearn.over_sampling import SMOTE\n",
        "from imblearn.under_sampling import RandomUnderSampler\n",
        "from imblearn.pipeline import Pipeline\n",
        "from matplotlib import pyplot\n",
        "from numpy import where\n",
        "import pandas as pd\n",
        "from sklearn.preprocessing import LabelEncoder\n",
        "import numpy as np\n",
        "from sklearn.model_selection import train_test_split\n",
        "from sklearn.metrics import accuracy_score\n",
        "from sklearn.linear_model import LogisticRegression\n",
        "from sklearn.preprocessing import StandardScaler\n",
        "np.set_printoptions(threshold=np.inf)"
      ]
    },
    {
      "cell_type": "code",
      "source": [
        "#데이터 읽기 및 분리\n",
        "data=pd.read_csv('/content/loan_data.csv')\n",
        "\n",
        "X=data.drop('not.fully.paid',axis=1)\n",
        "y=data['not.fully.paid']\n",
        "data['not.fully.paid'].value_counts() # 0:8045, 1:1533"
      ],
      "metadata": {
        "colab": {
          "base_uri": "https://localhost:8080/"
        },
        "id": "zw-qS4IpSPZu",
        "outputId": "95f2b8cc-1a05-46a2-ec21-cb5400fa9679"
      },
      "execution_count": 26,
      "outputs": [
        {
          "output_type": "stream",
          "name": "stdout",
          "text": [
            "      credit.policy             purpose  int.rate  ...  inq.last.6mths  delinq.2yrs  pub.rec\n",
            "0                 1  debt_consolidation    0.1189  ...               0            0        0\n",
            "1                 1         credit_card    0.1071  ...               0            0        0\n",
            "2                 1  debt_consolidation    0.1357  ...               1            0        0\n",
            "3                 1  debt_consolidation    0.1008  ...               1            0        0\n",
            "4                 1         credit_card    0.1426  ...               0            1        0\n",
            "...             ...                 ...       ...  ...             ...          ...      ...\n",
            "9573              0           all_other    0.1461  ...               2            0        0\n",
            "9574              0           all_other    0.1253  ...               5            0        0\n",
            "9575              0  debt_consolidation    0.1071  ...               8            0        0\n",
            "9576              0    home_improvement    0.1600  ...               5            0        0\n",
            "9577              0  debt_consolidation    0.1392  ...               6            0        0\n",
            "\n",
            "[9578 rows x 13 columns]\n"
          ]
        }
      ]
    },
    {
      "cell_type": "code",
      "source": [
        "#purpose 열 라벨인코딩\n",
        "label_encoder = LabelEncoder()\n",
        "encoded_clases = label_encoder.fit_transform(X['purpose'])\n",
        "X['purpose']=encoded_clases\n",
        "print(X)"
      ],
      "metadata": {
        "colab": {
          "base_uri": "https://localhost:8080/"
        },
        "id": "lXIzws_XVfMG",
        "outputId": "683c35fc-6967-4020-b5b6-8260a56ca461"
      },
      "execution_count": 35,
      "outputs": [
        {
          "output_type": "stream",
          "name": "stdout",
          "text": [
            "      credit.policy  purpose  int.rate  ...  inq.last.6mths  delinq.2yrs  pub.rec\n",
            "0                 1        2    0.1189  ...               0            0        0\n",
            "1                 1        1    0.1071  ...               0            0        0\n",
            "2                 1        2    0.1357  ...               1            0        0\n",
            "3                 1        2    0.1008  ...               1            0        0\n",
            "4                 1        1    0.1426  ...               0            1        0\n",
            "...             ...      ...       ...  ...             ...          ...      ...\n",
            "9573              0        0    0.1461  ...               2            0        0\n",
            "9574              0        0    0.1253  ...               5            0        0\n",
            "9575              0        2    0.1071  ...               8            0        0\n",
            "9576              0        4    0.1600  ...               5            0        0\n",
            "9577              0        2    0.1392  ...               6            0        0\n",
            "\n",
            "[9578 rows x 13 columns]\n"
          ]
        }
      ]
    },
    {
      "cell_type": "code",
      "source": [
        "#SMOTE\n",
        "new_X, new_y = SMOTE(sampling_strategy=1,random_state =10).fit_resample(X, y)\n",
        "new_y.value_counts()"
      ],
      "metadata": {
        "colab": {
          "base_uri": "https://localhost:8080/"
        },
        "id": "dfh63ekKZDFB",
        "outputId": "5e931cc5-80ae-4771-c623-e9416761366d"
      },
      "execution_count": 69,
      "outputs": [
        {
          "output_type": "execute_result",
          "data": {
            "text/plain": [
              "0    8045\n",
              "1    8045\n",
              "Name: not.fully.paid, dtype: int64"
            ]
          },
          "metadata": {},
          "execution_count": 69
        }
      ]
    },
    {
      "cell_type": "code",
      "source": [
        "#train, test 세트 나누기\n",
        "X_train, X_test, y_train, y_test = train_test_split(new_X, new_y, test_size=0.3, random_state=10)\n",
        "print(\"훈련 세트 크기:\", X_train.shape, y_train.shape)\n",
        "print(\"테스트 세트 크기:\", X_test.shape, y_test.shape)"
      ],
      "metadata": {
        "colab": {
          "base_uri": "https://localhost:8080/"
        },
        "id": "V2B4lthWf_f6",
        "outputId": "60d1ed7f-56eb-4577-9cd4-38f5ea7a93b1"
      },
      "execution_count": 70,
      "outputs": [
        {
          "output_type": "stream",
          "name": "stdout",
          "text": [
            "훈련 세트 크기: (11263, 13) (11263,)\n",
            "테스트 세트 크기: (4827, 13) (4827,)\n"
          ]
        }
      ]
    },
    {
      "cell_type": "code",
      "source": [
        "sc = StandardScaler()\n",
        "\n",
        "# 데이터에 정규화 적용\n",
        "# 평균이 0이고 표준편차가 1인 분포를 따르도록 함\n",
        "X_train = sc.fit_transform(X_train)\n",
        "X_test = sc.transform(X_test)"
      ],
      "metadata": {
        "id": "g4IIOLeujFoN"
      },
      "execution_count": 71,
      "outputs": []
    },
    {
      "cell_type": "code",
      "source": [
        "#로지스틱회귀 모델 생성 및 훈련\n",
        "model = LogisticRegression()\n",
        "model.fit(X_train,y_train)\n",
        "\n",
        "y_pred = model.predict(X_test)\n",
        "\n",
        "accuracy = accuracy_score(y_test,y_pred)\n",
        "print(\"테스트 정확도:\",accuracy)"
      ],
      "metadata": {
        "colab": {
          "base_uri": "https://localhost:8080/"
        },
        "id": "aFKfwcS8gw-T",
        "outputId": "f820300f-7f8c-4476-fd0d-66917b16f821"
      },
      "execution_count": 72,
      "outputs": [
        {
          "output_type": "stream",
          "name": "stdout",
          "text": [
            "테스트 정확도: 0.6813755956080381\n"
          ]
        }
      ]
    },
    {
      "cell_type": "code",
      "source": [],
      "metadata": {
        "id": "e7MUW_gVhw00"
      },
      "execution_count": null,
      "outputs": []
    }
  ]
}